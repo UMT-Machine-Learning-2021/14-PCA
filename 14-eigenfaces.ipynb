{
 "cells": [
  {
   "cell_type": "markdown",
   "id": "graphic-finding",
   "metadata": {},
   "source": [
    "# Eigenfaces\n",
    "\n",
    "A classic result in Principal Component Analysis comes from applying PCA to images of faces: the principal components that result from this process are known as eigenfaces, and they represent the optimal basis by which to represent faces.  \n",
    "\n",
    "We'll perform this analysis on the labelled faces in the wild dataset.  To get this dataset, use the following commands.  Note that this will likely take a few minutes the first time, as the dataset is nearly 200MB.\n"
   ]
  },
  {
   "cell_type": "code",
   "execution_count": null,
   "id": "binding-bacon",
   "metadata": {},
   "outputs": [],
   "source": [
    "from sklearn.datasets import fetch_lfw_people\n",
    "lfw_people = fetch_lfw_people(min_faces_per_person=20, resize=0.4,color=False)"
   ]
  },
  {
   "cell_type": "markdown",
   "id": "pressing-wells",
   "metadata": {},
   "source": [
    "The resulting dataset will be a dictionary.  Inside the dictionary there is a field called 'data', which is an m by 1850 numpy array.  This is just a flattened image, as with MNIST.  To reshape it to a proper black and white face image, you can reshape to 50 by 37.  Try this with a few of these images and plot them using imshow (you may wish to switch to grayscale).  NOTE: The LFW dataset pixel values are scaled from 0-255.  You'll need to rescale these to 0-1 by dividing by 255.  "
   ]
  },
  {
   "cell_type": "code",
   "execution_count": null,
   "id": "nominated-consideration",
   "metadata": {},
   "outputs": [],
   "source": []
  },
  {
   "cell_type": "markdown",
   "id": "voluntary-moisture",
   "metadata": {},
   "source": [
    "Now, perform a principal component analysis on this dataset.  If we call the m by 1850 matrix of faces $X$, then the first step is to center the data as\n",
    "$$X' = X - \\bar{X},$$\n",
    "with $\\bar{X}$ the pixelwise mean of the data (as such, $\\bar{X}$ should be size 1 by 1850).  \n"
   ]
  },
  {
   "cell_type": "code",
   "execution_count": null,
   "id": "global-electron",
   "metadata": {},
   "outputs": [],
   "source": []
  },
  {
   "cell_type": "markdown",
   "id": "local-attendance",
   "metadata": {},
   "source": [
    "Next we can easily compute the covariance matrix as \n",
    "$$ S = \\frac{1}{m} X'^T X',$$\n",
    "which should have dimensions 1850 by 1850."
   ]
  },
  {
   "cell_type": "code",
   "execution_count": null,
   "id": "satellite-wallpaper",
   "metadata": {},
   "outputs": [],
   "source": []
  },
  {
   "cell_type": "markdown",
   "id": "multiple-slope",
   "metadata": {},
   "source": [
    "Now, we can compute the principal components and their scores by taking an eigenvalue decomposition of $S$.  You can use the numpy command linalg.eig(S) to do this.  It may take a few moments to run, as this is cubic in the size of $S$!"
   ]
  },
  {
   "cell_type": "code",
   "execution_count": null,
   "id": "charitable-knight",
   "metadata": {},
   "outputs": [],
   "source": [
    "import numpy as np\n",
    "lamda,V = np.linalg.eig(S)"
   ]
  },
  {
   "cell_type": "markdown",
   "id": "continued-official",
   "metadata": {},
   "source": [
    "Next, plot the eigenvalues $\\lambda$.  You should find that they rapidly decrease in size (you may want to use a logarithmic $y$ axis).  Come up with some means to select a value $p$ after which you truncate.  Create a matrix $V'$ that contains as its columns the first $p$ principal components.   "
   ]
  },
  {
   "cell_type": "code",
   "execution_count": null,
   "id": "manufactured-growth",
   "metadata": {},
   "outputs": [],
   "source": []
  },
  {
   "cell_type": "markdown",
   "id": "healthy-woman",
   "metadata": {},
   "source": [
    "The principal components are of an appropriate size that they can be reshaped into images.  Visualize a few principal components (perhaps the first, second, tenth, hundredth, etc.).  These are the so-called eigenfaces: if you add them up in various proportions, you can recover nearly any face.  "
   ]
  },
  {
   "cell_type": "code",
   "execution_count": null,
   "id": "expected-kentucky",
   "metadata": {},
   "outputs": [],
   "source": []
  },
  {
   "cell_type": "markdown",
   "id": "worse-meter",
   "metadata": {},
   "source": [
    "Finally, let's explore the effects of truncation.  First, transform the data into its PCA coordinates by using the formula\n",
    "$$ Z = X' V'.$$\n",
    "$Z$ is an $m$ by $p$ matrix.  It contains the coordinates of each face, but now represented as coefficients of this new and better basis.  It's also lower dimensional, since $p<1850$.  As such, we've lost some information.  To get a sense of how much information was lost, we can transform $Z$ back into the original data coordinates using\n",
    "$$\n",
    "X_{recon} = Z V'^T + \\bar{X}.\n",
    "$$\n",
    "Plot a few images from $X_{recon}$ alongside the equivalent original $X$.  Comment on how good the reconstruction is.    "
   ]
  },
  {
   "cell_type": "code",
   "execution_count": null,
   "id": "major-newsletter",
   "metadata": {},
   "outputs": [],
   "source": []
  },
  {
   "cell_type": "markdown",
   "id": "spectacular-rendering",
   "metadata": {},
   "source": [
    "Finally, repeat the above procedure for different values of $p$.  For example, $p=1, p=5, p=20, etc.$.  How does the quality of the reconstruction change with different $p$?"
   ]
  },
  {
   "cell_type": "code",
   "execution_count": null,
   "id": "favorite-robertson",
   "metadata": {},
   "outputs": [],
   "source": []
  },
  {
   "cell_type": "markdown",
   "id": "outdoor-division",
   "metadata": {},
   "source": [
    "BONUS ROUND: Repeat the above procedure, but in color.  You can get the color LFW dataset by simply setting the color flag to true in fetch_lfw_people."
   ]
  }
 ],
 "metadata": {
  "kernelspec": {
   "display_name": "Python 3",
   "language": "python",
   "name": "python3"
  },
  "language_info": {
   "codemirror_mode": {
    "name": "ipython",
    "version": 3
   },
   "file_extension": ".py",
   "mimetype": "text/x-python",
   "name": "python",
   "nbconvert_exporter": "python",
   "pygments_lexer": "ipython3",
   "version": "3.8.5"
  }
 },
 "nbformat": 4,
 "nbformat_minor": 5
}
